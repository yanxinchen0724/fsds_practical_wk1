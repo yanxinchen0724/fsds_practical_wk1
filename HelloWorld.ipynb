{
 "cells": [
  {
   "cell_type": "code",
   "execution_count": 1,
   "id": "c47f0904-a45b-4b55-95da-55279f8a2570",
   "metadata": {},
   "outputs": [
    {
     "name": "stdout",
     "output_type": "stream",
     "text": [
      "Hello world\n"
     ]
    }
   ],
   "source": [
    "#Task 2: Hello World!\n",
    "print('Hello world')"
   ]
  },
  {
   "cell_type": "code",
   "execution_count": 3,
   "id": "80487bb6-4f7a-4da1-9ade-18def3be27ca",
   "metadata": {},
   "outputs": [
    {
     "name": "stdout",
     "output_type": "stream",
     "text": [
      "4\n",
      "22\n",
      "22\n",
      "16\n",
      "0.5\n",
      "<class 'str'>\n",
      "<class 'int'>\n",
      "<class 'int'>\n",
      "<class 'float'>\n"
     ]
    }
   ],
   "source": [
    "#Task 3: Python Variables\n",
    "#3.2 Variable Types\n",
    "x = '2'\n",
    "y = z = 2\n",
    "\n",
    "print(y * z)    # 4\n",
    "print(x * y)    # 4\n",
    "print(x + x)    # 4\n",
    "print((y+z)**z) # 16\n",
    "print(y/(y+z))  # 1/2\n",
    "\n",
    "print( type(x * y) )    # int\n",
    "print( type(y * z) )    # int\n",
    "print( type((y+z)**z) ) # int\n",
    "print( type(y/(y+z)) )  # float"
   ]
  },
  {
   "cell_type": "code",
   "execution_count": 4,
   "id": "9839d608-d9d8-458a-9b4d-b08a9311be27",
   "metadata": {},
   "outputs": [
    {
     "name": "stdout",
     "output_type": "stream",
     "text": [
      "22 32 22\n"
     ]
    }
   ],
   "source": [
    "#3.3 Assignment\n",
    "x = 12\n",
    "y = 10\n",
    "\n",
    "z = x + y # 22\n",
    "x = x + y # 22\n",
    "y = z + y # 32\n",
    "\n",
    "print(x,y,z) # 22,32,22"
   ]
  },
  {
   "cell_type": "code",
   "execution_count": 6,
   "id": "cf229cd2-c9d4-44ed-98b1-85c6328786ac",
   "metadata": {},
   "outputs": [
    {
     "name": "stdout",
     "output_type": "stream",
     "text": [
      "2.5\n",
      "2.25\n",
      "2.5\n"
     ]
    }
   ],
   "source": [
    "#3.4 Operators & Precedence\n",
    "x = 1 + (2 * 3) / 4\n",
    "y = (1 + 2) * (3 / 4)\n",
    "z = 1 + 2 * (3 / 4)\n",
    "\n",
    "print(x) # x is  2.5\n",
    "print(y) # y is  2.25\n",
    "print(z) # z is  2.5"
   ]
  },
  {
   "cell_type": "code",
   "execution_count": 11,
   "id": "760e1bb5-65a9-4028-b677-2bef170cf9b6",
   "metadata": {},
   "outputs": [
    {
     "name": "stdout",
     "output_type": "stream",
     "text": [
      "1\n",
      "13\n",
      "False\n",
      "1000\n",
      "7\n",
      "3\n"
     ]
    }
   ],
   "source": [
    "#3.5 Test Your Operator Knowledge\n",
    "x = 10\n",
    "y = 3\n",
    "\n",
    "print( x % y ) # 1\n",
    "print( x + y ) # 13\n",
    "print( x == y ) # False\n",
    "print( x ** y ) # 1000\n",
    "print( x - y ) # 7\n",
    "print( x // y ) # 3"
   ]
  },
  {
   "cell_type": "code",
   "execution_count": 15,
   "id": "0fbec62b-2f12-46f6-ac50-767b285c656a",
   "metadata": {},
   "outputs": [
    {
     "name": "stdout",
     "output_type": "stream",
     "text": [
      "3.141592653589793\n",
      "12\n",
      "6.0\n",
      "904.7786842338603\n"
     ]
    }
   ],
   "source": [
    "#3.6 Applying What We've Learned\n",
    "#3.6.1. Calculate the Volume of a Sphere\n",
    "import math\n",
    "a = math.pi\n",
    "R = 12\n",
    "r = R / 2\n",
    "v = ( ( 4 / 3 ) * a ) * ( r ** 3 )\n",
    "\n",
    "print(a) #3.1415\n",
    "print(R) #12\n",
    "print(r) #6\n",
    "print(v) #904"
   ]
  },
  {
   "cell_type": "code",
   "execution_count": 21,
   "id": "ed55253e-15d5-4cb7-bc6d-daef56a00f2f",
   "metadata": {},
   "outputs": [
    {
     "name": "stdout",
     "output_type": "stream",
     "text": [
      "3.141592653589793\n",
      "1/3\n",
      "14.99994095641231\n"
     ]
    }
   ],
   "source": [
    "#3.6.2. Calculate the Radius of a Sphere\n",
    "import math\n",
    "from fractions import Fraction\n",
    "a = math.pi\n",
    "f =Fraction(1,3)\n",
    "\n",
    "V=14137\n",
    "r = (3/4*V/a)**f\n",
    "print(a)\n",
    "print(f)\n",
    "print(r)"
   ]
  },
  {
   "cell_type": "code",
   "execution_count": 22,
   "id": "72730a66-bef9-4ff8-9b25-46d0d758cd8d",
   "metadata": {},
   "outputs": [
    {
     "name": "stdout",
     "output_type": "stream",
     "text": [
      " Less than 10 hours worked! \n"
     ]
    }
   ],
   "source": [
    "#Task 4: Python Conditions\n",
    "#4.1 Working with Conditions\n",
    "hours=0\n",
    "\n",
    "if hours > 10:\n",
    "    print(\" At least 10 hours worked! \")\n",
    "elif hours == 10:\n",
    "    print(\" Exactly 2 hours worked. \")\n",
    "else:\n",
    "    print(\" Less than 10 hours worked! \")"
   ]
  },
  {
   "cell_type": "code",
   "execution_count": 43,
   "id": "658ab9bb-07da-4670-9e34-721da0b41e9a",
   "metadata": {},
   "outputs": [
    {
     "name": "stdout",
     "output_type": "stream",
     "text": [
      " \n",
      "          inside 1\n",
      "          inside 2\n",
      "          inside\n",
      "          after condition\n",
      "    \n"
     ]
    }
   ],
   "source": [
    "#4.2 Flow Control\n",
    "a = 2\n",
    "b = 2\n",
    "x = a \n",
    "\n",
    "if x == b :\n",
    "    print(\"\"\" \n",
    "          inside 1\n",
    "          inside 2\n",
    "          inside\n",
    "          after condition\n",
    "    \"\"\")\n",
    "\n",
    "else :\n",
    "    print(\"after condition\")\n"
   ]
  },
  {
   "cell_type": "code",
   "execution_count": 45,
   "id": "48604fce-24bf-4fa5-8ebe-40f0673fafee",
   "metadata": {},
   "outputs": [
    {
     "name": "stdout",
     "output_type": "stream",
     "text": [
      "after condition\n"
     ]
    }
   ],
   "source": [
    "#4.2 Flow Control\n",
    "a = 1\n",
    "b = 2\n",
    "x = a\n",
    "if x == b :\n",
    "    print(\"\"\" \n",
    "          inside 1\n",
    "          inside 2\n",
    "          inside\n",
    "          after condition\n",
    "    \"\"\")\n",
    "\n",
    "else :\n",
    "    print(\"after condition\")"
   ]
  },
  {
   "cell_type": "code",
   "execution_count": 46,
   "id": "a1afbc3d-1ba5-43ef-a13e-7b4f0b53007a",
   "metadata": {},
   "outputs": [
    {
     "name": "stdout",
     "output_type": "stream",
     "text": [
      "Aled\n"
     ]
    }
   ],
   "source": [
    "#Task 5: Python Logic\n",
    "#5.1 It's All Quite Logical...\n",
    "x=5\n",
    "\n",
    "if x > 0 and x < 5:\n",
    "    print(\"Joe\")\n",
    "\n",
    "if x > 0 or x < 5:\n",
    "    print(\"Aled\")\n",
    "\n",
    "if not(x > 0):\n",
    "    print(\"Sarah\")\n",
    "    "
   ]
  },
  {
   "cell_type": "code",
   "execution_count": 48,
   "id": "91f9547b-f269-4a10-9e7c-731f9d4de6ef",
   "metadata": {},
   "outputs": [
    {
     "name": "stdout",
     "output_type": "stream",
     "text": [
      "Joe\n",
      "Aled\n"
     ]
    }
   ],
   "source": [
    "#5.1 It's All Quite Logical...\n",
    "x=3\n",
    "\n",
    "if x > 0 and x < 5:\n",
    "    print(\"Joe\")\n",
    "\n",
    "if x > 0 or x < 5:\n",
    "    print(\"Aled\")\n",
    "\n",
    "if not(x > 0):\n",
    "    print(\"Sarah\")\n",
    "\n"
   ]
  },
  {
   "cell_type": "code",
   "execution_count": 52,
   "id": "2ca709aa-f4f6-4258-b105-4bd6c05430d6",
   "metadata": {},
   "outputs": [
    {
     "name": "stdout",
     "output_type": "stream",
     "text": [
      "0\n",
      "x is even\n",
      "0\n",
      "1\n",
      "x is odd\n",
      "1\n",
      "2\n",
      "x is even\n",
      "2\n",
      "3\n",
      "x is odd\n",
      "3\n",
      "4\n",
      "x is even\n",
      "4\n",
      "5\n",
      "x is odd\n",
      "5\n",
      "6\n",
      "x is even\n",
      "6\n",
      "7\n",
      "x is odd\n",
      "7\n",
      "8\n",
      "x is even\n",
      "8\n"
     ]
    }
   ],
   "source": [
    "#5.2 Logic (Cont'd)\n",
    "for x in range(0,9):\n",
    "    print(x)\n",
    "    if(x % 2 == 0):\n",
    "        print(\"x is even\")\n",
    "    else:\n",
    "        print(\"x is odd\")\n",
    "    print(x)        \n"
   ]
  },
  {
   "cell_type": "code",
   "execution_count": 53,
   "id": "3333c4eb-ead3-46e9-a2c9-2960f3b2b7fd",
   "metadata": {},
   "outputs": [
    {
     "name": "stdout",
     "output_type": "stream",
     "text": [
      "x is not equal to y\n",
      "x is greater than y\n"
     ]
    }
   ],
   "source": [
    "#5.3 'Nested' Conditionals\n",
    "x = 5\n",
    "y = 4\n",
    "\n",
    "if x != y:                                 #line 1\n",
    "    print(\"x is not equal to y\")\n",
    "    \n",
    "    if(x > y):                             #line 4\n",
    "        print(\"x is greater than y\")\n",
    "    \n",
    "    else:                                  #line 7\n",
    "        print(\"x is less than y\")\n",
    "\n",
    "else:\n",
    "    print(\"x = y\")"
   ]
  },
  {
   "cell_type": "code",
   "execution_count": 54,
   "id": "06cb5bf0-163f-465d-85cb-20678bf3711c",
   "metadata": {},
   "outputs": [
    {
     "name": "stdout",
     "output_type": "stream",
     "text": [
      "x is not equal to y\n",
      "x is less than y\n"
     ]
    }
   ],
   "source": [
    "#5.3 'Nested' Conditionals\n",
    "x = 2\n",
    "y = 3\n",
    "\n",
    "if x != y:                                 #line 1\n",
    "    print(\"x is not equal to y\")\n",
    "    \n",
    "    if(x > y):                             #line 4\n",
    "        print(\"x is greater than y\")\n",
    "    \n",
    "    else:                                  #line 7\n",
    "        print(\"x is less than y\")\n",
    "\n",
    "else:\n",
    "    print(\"x = y\")"
   ]
  },
  {
   "cell_type": "code",
   "execution_count": 60,
   "id": "0599d93a-0f0c-4c67-848c-6259b46e2534",
   "metadata": {},
   "outputs": [
    {
     "name": "stdout",
     "output_type": "stream",
     "text": [
      "London\n",
      "Tokyo\n",
      "['Beijing', 'Tokyo']\n",
      "['London', 'Beijing', 'Tokyo', 'Delhi']\n",
      "['London', 'Beijing', 'Tokyo']\n",
      "0\n"
     ]
    }
   ],
   "source": [
    "#Task 6: Python Lists\n",
    "#6.1 Who's in the List?\n",
    "#https://blog.csdn.net/qq_58372242/article/details/121728747\n",
    "cities = ['New York', 'London', 'Beijing', 'Tokyo', 'Delhi']\n",
    "\n",
    "# Print out London from cities:\n",
    "print( cities[1] )\n",
    "\n",
    "# Print out Tokyo using *negative* indexing:\n",
    "print( cities[-2] )\n",
    "\n",
    "# Print out Beijing *and* Tokyo using a list slice\n",
    "print( cities[2:4]  )\n",
    "\n",
    "# Print out London to Delhi using a slice\n",
    "print( cities[1:] ) # You could also do cities[1:5] but this way is neater\n",
    "\n",
    "# Combine positive and negative indexing to print out London, Beijing and Tokyo using a list slice\n",
    "print( cities[1:-1]  )\n",
    "\n",
    "# Print out the position of New York in the list by searching for it (i.e. you can't just type 0)\n",
    "print(cities.index(\"New York\"))\n"
   ]
  },
  {
   "cell_type": "code",
   "execution_count": 61,
   "id": "9886d6e3-79d1-4d30-acb8-8510a1d01b64",
   "metadata": {},
   "outputs": [
    {
     "ename": "IndexError",
     "evalue": "list index out of range",
     "output_type": "error",
     "traceback": [
      "\u001b[0;31m---------------------------------------------------------------------------\u001b[0m",
      "\u001b[0;31mIndexError\u001b[0m                                Traceback (most recent call last)",
      "Cell \u001b[0;32mIn[61], line 5\u001b[0m\n\u001b[1;32m      1\u001b[0m \u001b[38;5;66;03m#6.2 Manipulating Lists\u001b[39;00m\n\u001b[1;32m      2\u001b[0m \u001b[38;5;66;03m# Cause an 'IndexError: list index out of range' errr\u001b[39;00m\n\u001b[1;32m      3\u001b[0m cities \u001b[38;5;241m=\u001b[39m [\u001b[38;5;124m'\u001b[39m\u001b[38;5;124mNew York\u001b[39m\u001b[38;5;124m'\u001b[39m, \u001b[38;5;124m'\u001b[39m\u001b[38;5;124mLondon\u001b[39m\u001b[38;5;124m'\u001b[39m, \u001b[38;5;124m'\u001b[39m\u001b[38;5;124mBeijing\u001b[39m\u001b[38;5;124m'\u001b[39m, \u001b[38;5;124m'\u001b[39m\u001b[38;5;124mTokyo\u001b[39m\u001b[38;5;124m'\u001b[39m, \u001b[38;5;124m'\u001b[39m\u001b[38;5;124mDelhi\u001b[39m\u001b[38;5;124m'\u001b[39m]\n\u001b[0;32m----> 5\u001b[0m \u001b[38;5;28mprint\u001b[39m( \u001b[43mcities\u001b[49m\u001b[43m[\u001b[49m\u001b[38;5;241;43m8\u001b[39;49m\u001b[43m]\u001b[49m )\n",
      "\u001b[0;31mIndexError\u001b[0m: list index out of range"
     ]
    }
   ],
   "source": [
    "#6.2 Manipulating Lists\n",
    "#6.2.1 Create an IndexError\n",
    "# Cause an 'IndexError: list index out of range' errr\n",
    "cities = ['New York', 'London', 'Beijing', 'Tokyo', 'Delhi']\n",
    "\n",
    "print( cities[8] )"
   ]
  },
  {
   "cell_type": "code",
   "execution_count": 62,
   "id": "7d1f702f-e94b-4569-a7ed-f775c81bd087",
   "metadata": {},
   "outputs": [
    {
     "ename": "NameError",
     "evalue": "name 'citie' is not defined",
     "output_type": "error",
     "traceback": [
      "\u001b[0;31m---------------------------------------------------------------------------\u001b[0m",
      "\u001b[0;31mNameError\u001b[0m                                 Traceback (most recent call last)",
      "Cell \u001b[0;32mIn[62], line 4\u001b[0m\n\u001b[1;32m      1\u001b[0m \u001b[38;5;66;03m#6.2.2 Create a ValueError\u001b[39;00m\n\u001b[1;32m      2\u001b[0m \u001b[38;5;66;03m# Cause a ValueError using the city of Toronto\u001b[39;00m\n\u001b[1;32m      3\u001b[0m cities \u001b[38;5;241m=\u001b[39m [\u001b[38;5;124m'\u001b[39m\u001b[38;5;124mNew York\u001b[39m\u001b[38;5;124m'\u001b[39m, \u001b[38;5;124m'\u001b[39m\u001b[38;5;124mLondon\u001b[39m\u001b[38;5;124m'\u001b[39m, \u001b[38;5;124m'\u001b[39m\u001b[38;5;124mBeijing\u001b[39m\u001b[38;5;124m'\u001b[39m, \u001b[38;5;124m'\u001b[39m\u001b[38;5;124mTokyo\u001b[39m\u001b[38;5;124m'\u001b[39m, \u001b[38;5;124m'\u001b[39m\u001b[38;5;124mDelhi\u001b[39m\u001b[38;5;124m'\u001b[39m]\n\u001b[0;32m----> 4\u001b[0m \u001b[43mcitie\u001b[49m\u001b[38;5;241m.\u001b[39mremove(\u001b[38;5;124m'\u001b[39m\u001b[38;5;124mShanghai\u001b[39m\u001b[38;5;124m'\u001b[39m)\n",
      "\u001b[0;31mNameError\u001b[0m: name 'citie' is not defined"
     ]
    }
   ],
   "source": [
    "#6.2.2 Create a ValueError\n",
    "# Cause a ValueError using the city of Toronto\n",
    "cities = ['New York', 'London', 'Beijing', 'Tokyo', 'Delhi']\n",
    "citie.remove('Shanghai')"
   ]
  },
  {
   "cell_type": "code",
   "execution_count": 75,
   "id": "0e802747-eb4c-4216-b39b-e8eef1a94e1e",
   "metadata": {},
   "outputs": [
    {
     "name": "stdout",
     "output_type": "stream",
     "text": [
      "['Tokyo', 'New York', 'London', 'Delhi', 'Beijing']\n"
     ]
    }
   ],
   "source": [
    "#6.2.3 Sort the List\n",
    "cities = ['New York', 'London', 'Beijing', 'Tokyo', 'Delhi']\n",
    "cities = sorted(cities, key=str.lower) # 按某字母排序\n",
    "cities.sort(reverse=True)\n",
    "print(cities)\n"
   ]
  },
  {
   "cell_type": "code",
   "execution_count": 78,
   "id": "a8412271-f463-4de6-ac32-32f203f3a871",
   "metadata": {},
   "outputs": [
    {
     "name": "stdout",
     "output_type": "stream",
     "text": [
      "['Tokyo', 'Toronto', 'New York', 'London', 'Delhi', 'Beijing']\n"
     ]
    }
   ],
   "source": [
    "#6.3 Adding/Removing Values\n",
    "#6.3.1 Inserting into a List\n",
    "# Just in case you make a mistake...\n",
    "cities = ['Tokyo', 'New York', 'London', 'Delhi', 'Beijing']\n",
    "cities.insert(2,'Toronto')\n",
    "print(cities)\n"
   ]
  },
  {
   "cell_type": "code",
   "execution_count": 80,
   "id": "d5b489f2-8fb7-418e-89b5-5bb148d1ec54",
   "metadata": {},
   "outputs": [
    {
     "name": "stdout",
     "output_type": "stream",
     "text": [
      "['Tokyo', 'Toronto', 'London', 'Delhi', 'Beijing']\n"
     ]
    }
   ],
   "source": [
    "#6.3.2 Removing from a List\n",
    "cities = ['Tokyo', 'Toronto', 'New York', 'London', 'Delhi', 'Beijing']\n",
    "cities.remove('New York')\n",
    "print(cities)"
   ]
  },
  {
   "cell_type": "code",
   "execution_count": 83,
   "id": "3ac708df-9f54-4ce3-9375-5e60caaf1a3d",
   "metadata": {},
   "outputs": [
    {
     "data": {
      "text/plain": [
       "False"
      ]
     },
     "execution_count": 83,
     "metadata": {},
     "output_type": "execute_result"
    }
   ],
   "source": [
    "#6.3.3 Checking Lists\n",
    "cities = ['Tokyo', 'Toronto', 'New York', 'London', 'Delhi', 'Beijing']\n",
    "'Moscow' in cities"
   ]
  },
  {
   "cell_type": "code",
   "execution_count": null,
   "id": "457af524-a2be-4407-845d-ef3ae30a72ca",
   "metadata": {},
   "outputs": [],
   "source": []
  }
 ],
 "metadata": {
  "kernelspec": {
   "display_name": "Python 3 (ipykernel)",
   "language": "python",
   "name": "python3"
  },
  "language_info": {
   "codemirror_mode": {
    "name": "ipython",
    "version": 3
   },
   "file_extension": ".py",
   "mimetype": "text/x-python",
   "name": "python",
   "nbconvert_exporter": "python",
   "pygments_lexer": "ipython3",
   "version": "3.11.5"
  }
 },
 "nbformat": 4,
 "nbformat_minor": 5
}
